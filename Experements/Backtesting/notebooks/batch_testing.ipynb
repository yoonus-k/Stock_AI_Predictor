{
 "cells": [
  {
   "cell_type": "markdown",
   "id": "4ecd530d",
   "metadata": {},
   "source": [
    "# Backtesting Configuration Batch Tester\n",
    "\n",
    "This notebook demonstrates how to use the batch testing functionality to test multiple backtest configurations at once. It allows you to test all configurations in the database or a specific subset, and visualize the results."
   ]
  },
  {
   "cell_type": "code",
   "execution_count": 1,
   "id": "779eb1d2",
   "metadata": {},
   "outputs": [
    {
     "ename": "ModuleNotFoundError",
     "evalue": "No module named 'Data'",
     "output_type": "error",
     "traceback": [
      "\u001b[1;31m---------------------------------------------------------------------------\u001b[0m",
      "\u001b[1;31mModuleNotFoundError\u001b[0m                       Traceback (most recent call last)",
      "Cell \u001b[1;32mIn[1], line 13\u001b[0m\n\u001b[0;32m     10\u001b[0m sys\u001b[38;5;241m.\u001b[39mpath\u001b[38;5;241m.\u001b[39mappend(os\u001b[38;5;241m.\u001b[39mpath\u001b[38;5;241m.\u001b[39mdirname(current_dir))\n\u001b[0;32m     12\u001b[0m \u001b[38;5;66;03m# Import custom modules\u001b[39;00m\n\u001b[1;32m---> 13\u001b[0m \u001b[38;5;28;01mfrom\u001b[39;00m \u001b[38;5;21;01mData\u001b[39;00m\u001b[38;5;21;01m.\u001b[39;00m\u001b[38;5;21;01mDatabase\u001b[39;00m\u001b[38;5;21;01m.\u001b[39;00m\u001b[38;5;21;01mdb\u001b[39;00m \u001b[38;5;28;01mimport\u001b[39;00m Database\n\u001b[0;32m     14\u001b[0m \u001b[38;5;28;01mfrom\u001b[39;00m \u001b[38;5;21;01mExperements\u001b[39;00m\u001b[38;5;21;01m.\u001b[39;00m\u001b[38;5;21;01mBacktesting\u001b[39;00m\u001b[38;5;21;01m.\u001b[39;00m\u001b[38;5;21;01mbatch_tester\u001b[39;00m \u001b[38;5;28;01mimport\u001b[39;00m test_all_configs, test_config, compare_configs_by_date_range\n\u001b[0;32m     16\u001b[0m \u001b[38;5;66;03m# Set plotting style\u001b[39;00m\n",
      "\u001b[1;31mModuleNotFoundError\u001b[0m: No module named 'Data'"
     ]
    }
   ],
   "source": [
    "import sys\n",
    "import os\n",
    "import pandas as pd\n",
    "import numpy as np\n",
    "import matplotlib.pyplot as plt\n",
    "from datetime import datetime, timedelta\n",
    "\n",
    "# Add project root to path\n",
    "current_dir = os.path.dirname(os.path.abspath(''))\n",
    "sys.path.append(os.path.dirname(current_dir))\n",
    "\n",
    "# Import custom modules\n",
    "from Data.Database.db import Database\n",
    "from Experements.Backtesting.batch_tester import test_all_configs, test_config, compare_configs_by_date_range\n",
    "\n",
    "# Set plotting style\n",
    "plt.style.use('ggplot')\n",
    "%matplotlib inline"
   ]
  },
  {
   "cell_type": "markdown",
   "id": "c0219a91",
   "metadata": {},
   "source": [
    "## Database Connection\n",
    "\n",
    "First, connect to the database to access the stored configurations."
   ]
  },
  {
   "cell_type": "code",
   "execution_count": null,
   "id": "dfd339ab",
   "metadata": {},
   "outputs": [],
   "source": [
    "# Create database connection\n",
    "db = Database()\n",
    "\n",
    "# Check available stocks and timeframes\n",
    "stocks_df = db.get_all_stocks()\n",
    "timeframes_df = db.get_all_timeframes()\n",
    "\n",
    "print(\"Available Stocks:\")\n",
    "display(stocks_df)\n",
    "\n",
    "print(\"\\nAvailable Timeframes:\")\n",
    "display(timeframes_df)"
   ]
  },
  {
   "cell_type": "markdown",
   "id": "dd249d5f",
   "metadata": {},
   "source": [
    "## View Stored Configurations\n",
    "\n",
    "Let's check what configurations are available in the database."
   ]
  },
  {
   "cell_type": "code",
   "execution_count": null,
   "id": "3c07de49",
   "metadata": {},
   "outputs": [],
   "source": [
    "# Get all configurations\n",
    "configs_df = db.get_configs()\n",
    "\n",
    "# Display a summary of configurations\n",
    "summary_cols = ['config_id', 'stock_id', 'timeframe_id', 'recognition_technique', 'n_pips', 'lookback', 'hold_period']\n",
    "config_summary = configs_df[summary_cols] if all(col in configs_df.columns for col in summary_cols) else configs_df\n",
    "\n",
    "display(config_summary.sort_values('config_id', ascending=False))"
   ]
  },
  {
   "cell_type": "markdown",
   "id": "500293da",
   "metadata": {},
   "source": [
    "## Test a Single Configuration\n",
    "\n",
    "Let's start by testing a single configuration."
   ]
  },
  {
   "cell_type": "code",
   "execution_count": null,
   "id": "25eb85a1",
   "metadata": {},
   "outputs": [],
   "source": [
    "# Set test parameters\n",
    "config_id = 44  # Replace with your desired configuration ID\n",
    "train_start = pd.Timestamp(\"2024-01-01\")\n",
    "train_end = pd.Timestamp(\"2025-01-01\")\n",
    "test_start = pd.Timestamp(\"2025-01-01\")\n",
    "test_end = pd.Timestamp(\"2025-05-01\")\n",
    "\n",
    "# Run the test\n",
    "result = test_config(\n",
    "    db=db,\n",
    "    config_id=config_id,\n",
    "    train_start=train_start,\n",
    "    train_end=train_end,\n",
    "    test_start=test_start, \n",
    "    test_end=test_end,\n",
    "    save_report=True\n",
    ")\n",
    "\n",
    "# Display the results\n",
    "if result and 'summary' in result:\n",
    "    summary = result['summary']\n",
    "    print(f\"Configuration: {summary['config_id']}\")\n",
    "    print(f\"Stock: {summary['stock_id']}\")\n",
    "    print(f\"Technique: {summary['technique']}\")\n",
    "    print(f\"Total Trades: {summary['total_trades']}\")\n",
    "    print(f\"Win Rate: {summary['win_rate']:.2f}%\")\n",
    "    print(f\"Total Return: {summary['total_return_pct']:.2f}%\")\n",
    "    print(f\"Sharpe Ratio: {summary['sharpe_ratio']:.2f}\")\n",
    "    print(f\"Max Drawdown: {summary['max_drawdown']:.2f}%\")\n",
    "    \n",
    "    # Plot equity curve if available\n",
    "    if 'equity_curve' in result:\n",
    "        plt.figure(figsize=(10, 6))\n",
    "        plt.plot(result['equity_curve'])\n",
    "        plt.title(f\"Equity Curve for Configuration {config_id}\")\n",
    "        plt.xlabel(\"Time\")\n",
    "        plt.ylabel(\"Portfolio Value\")\n",
    "        plt.grid(True)\n",
    "        plt.show()"
   ]
  },
  {
   "cell_type": "markdown",
   "id": "a134c93b",
   "metadata": {},
   "source": [
    "## Test All Configurations for a Specific Stock\n",
    "\n",
    "Now let's test all configurations for a specific stock."
   ]
  },
  {
   "cell_type": "code",
   "execution_count": null,
   "id": "f8ef3dd4",
   "metadata": {},
   "outputs": [],
   "source": [
    "# Set test parameters\n",
    "stock_id = 1  # Replace with your desired stock ID\n",
    "train_start = pd.Timestamp(\"2024-01-01\")\n",
    "train_end = pd.Timestamp(\"2025-01-01\")\n",
    "test_start = pd.Timestamp(\"2025-01-01\")\n",
    "test_end = pd.Timestamp(\"2025-05-01\")\n",
    "\n",
    "# Run the tests\n",
    "results = test_all_configs(\n",
    "    db=db,\n",
    "    stock_id=stock_id,\n",
    "    train_start=train_start,\n",
    "    train_end=train_end,\n",
    "    test_start=test_start,\n",
    "    test_end=test_end,\n",
    "    save_reports=False,\n",
    "    parallel=False  # Set to True for faster testing if you have multiple cores\n",
    ")\n",
    "\n",
    "# Display the summary results\n",
    "if 'summary' in results and not results['summary'].empty:\n",
    "    display(results['summary'][['config_id', 'technique', 'total_trades', 'win_rate', 'profit_factor', 'total_return_pct', 'sharpe_ratio']])"
   ]
  },
  {
   "cell_type": "markdown",
   "id": "47f55acc",
   "metadata": {},
   "source": [
    "## Compare Configurations Across Multiple Time Periods\n",
    "\n",
    "Let's compare how different configurations perform across multiple time periods."
   ]
  },
  {
   "cell_type": "code",
   "execution_count": null,
   "id": "bce76037",
   "metadata": {},
   "outputs": [],
   "source": [
    "# Get configuration IDs for a specific stock\n",
    "stock_id = 1  # Replace with your desired stock ID\n",
    "configs_df = db.get_configs(stock_id=stock_id)\n",
    "config_ids = configs_df['config_id'].tolist()\n",
    "\n",
    "# If there are too many configs, limit to the first few\n",
    "if len(config_ids) > 5:\n",
    "    config_ids = config_ids[:5]\n",
    "\n",
    "print(f\"Testing configurations: {config_ids}\")\n",
    "\n",
    "# Create date ranges for testing (4 quarters of a year)\n",
    "base_date = pd.Timestamp(\"2025-01-01\")\n",
    "start_dates = []\n",
    "end_dates = []\n",
    "\n",
    "for i in range(4):\n",
    "    period_start = base_date + pd.Timedelta(days=i*90)  # 90 days = ~3 months\n",
    "    period_end = period_start + pd.Timedelta(days=90)\n",
    "    start_dates.append(period_start)\n",
    "    end_dates.append(period_end)\n",
    "    print(f\"Period {i+1}: {period_start.strftime('%Y-%m-%d')} to {period_end.strftime('%Y-%m-%d')}\")\n",
    "\n",
    "# Run the comparison\n",
    "comparison_df = compare_configs_by_date_range(\n",
    "    db=db,\n",
    "    config_ids=config_ids,\n",
    "    start_dates=start_dates,\n",
    "    end_dates=end_dates,\n",
    "    train_period=365,  # 1 year training\n",
    "    stock_id=stock_id\n",
    ")\n",
    "\n",
    "# Display the results\n",
    "if not comparison_df.empty:\n",
    "    display(comparison_df[['config_id', 'period', 'total_trades', 'win_rate', 'total_return_pct', 'sharpe_ratio']])"
   ]
  },
  {
   "cell_type": "markdown",
   "id": "c88de429",
   "metadata": {},
   "source": [
    "## Create a Custom Visualization\n",
    "\n",
    "Let's create a custom visualization of the comparison results."
   ]
  },
  {
   "cell_type": "code",
   "execution_count": null,
   "id": "17abb5c2",
   "metadata": {},
   "outputs": [],
   "source": [
    "if not comparison_df.empty and 'period' in comparison_df.columns and 'config_id' in comparison_df.columns:\n",
    "    # Create a pivot table of returns\n",
    "    pivot_df = comparison_df.pivot(index='config_id', columns='period', values='total_return_pct')\n",
    "    \n",
    "    # Add average column\n",
    "    pivot_df['Average'] = pivot_df.mean(axis=1)\n",
    "    \n",
    "    # Sort by average performance\n",
    "    pivot_df = pivot_df.sort_values('Average', ascending=False)\n",
    "    \n",
    "    # Create a heatmap\n",
    "    plt.figure(figsize=(12, 8))\n",
    "    im = plt.pcolormesh(pivot_df.values, cmap='RdYlGn', vmin=-20, vmax=20)\n",
    "    plt.colorbar(im, label='Return (%)')\n",
    "    \n",
    "    # Set axis ticks and labels\n",
    "    plt.yticks(np.arange(0.5, len(pivot_df.index)), pivot_df.index)\n",
    "    plt.xticks(np.arange(0.5, len(pivot_df.columns)), pivot_df.columns, rotation=45)\n",
    "    \n",
    "    plt.title('Configuration Performance by Time Period')\n",
    "    plt.tight_layout()\n",
    "    plt.show()"
   ]
  },
  {
   "cell_type": "markdown",
   "id": "d24b5453",
   "metadata": {},
   "source": [
    "## Cleanup\n",
    "\n",
    "Close the database connection when done."
   ]
  },
  {
   "cell_type": "code",
   "execution_count": null,
   "id": "a0c0e2a9",
   "metadata": {},
   "outputs": [],
   "source": [
    "# Close database connection\n",
    "db.close()"
   ]
  }
 ],
 "metadata": {
  "kernelspec": {
   "display_name": "Python 3",
   "language": "python",
   "name": "python3"
  },
  "language_info": {
   "codemirror_mode": {
    "name": "ipython",
    "version": 3
   },
   "file_extension": ".py",
   "mimetype": "text/x-python",
   "name": "python",
   "nbconvert_exporter": "python",
   "pygments_lexer": "ipython3",
   "version": "3.12.3"
  }
 },
 "nbformat": 4,
 "nbformat_minor": 5
}
