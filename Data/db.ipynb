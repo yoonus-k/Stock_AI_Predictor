{
 "cells": [
  {
   "cell_type": "code",
   "execution_count": 7,
   "metadata": {},
   "outputs": [],
   "source": [
    "# import libraries\n",
    "import pandas as pd\n",
    "import sqlite3 as db\n",
    "import bcrypt\n",
    "\n",
    "# create a connection to the database\n",
    "# conn = db.connect('Data/data.db')\n",
    "conn = db.connect('data.db')\n",
    "# create a cursor object\n",
    "cur = conn.cursor()\n"
   ]
  },
  {
   "cell_type": "markdown",
   "metadata": {},
   "source": [
    "# Create Stock Data Table"
   ]
  },
  {
   "cell_type": "code",
   "execution_count": null,
   "metadata": {},
   "outputs": [
    {
     "data": {
      "text/plain": [
       "<sqlite3.Cursor at 0x17d586061c0>"
      ]
     },
     "execution_count": 23,
     "metadata": {},
     "output_type": "execute_result"
    }
   ],
   "source": [
    "\n",
    "conn.execute('''\n",
    "    CREATE TABLE stock_data (\n",
    "    StockEntryID INTEGER,\n",
    "    StockID INTEGER,\n",
    "    StockSymbol TEXT,\n",
    "    Timestamp TEXT,\n",
    "    TimeFrame INTEGER,\n",
    "    OpenPrice REAL,\n",
    "    ClosePrice REAL,\n",
    "    HighPrice REAL,\n",
    "    LowPrice REAL,\n",
    "    Volume REAL,\n",
    "    PRIMARY KEY (StockEntryID, StockID , TimeFrame)  \n",
    ")\n",
    "''')\n"
   ]
  },
  {
   "cell_type": "code",
   "execution_count": 75,
   "metadata": {},
   "outputs": [
    {
     "data": {
      "text/plain": [
       "<sqlite3.Cursor at 0x1c35fc5ef40>"
      ]
     },
     "execution_count": 75,
     "metadata": {},
     "output_type": "execute_result"
    }
   ],
   "source": [
    "# create new employee table\n",
    "conn.execute('''\n",
    "    CREATE TABLE employee (\n",
    "    EmployeeID INTEGER PRIMARY KEY,\n",
    "    FirstName TEXT NOT NULL,\n",
    "    LastName TEXT NOT NULL,\n",
    "    Department TEXT NOT NULL,\n",
    "    Salary REAL NOT NULL\n",
    ")\n",
    "''')\n"
   ]
  },
  {
   "cell_type": "markdown",
   "metadata": {},
   "source": [
    "# Create Patterns Table"
   ]
  },
  {
   "cell_type": "code",
   "execution_count": null,
   "metadata": {},
   "outputs": [
    {
     "data": {
      "text/plain": [
       "<sqlite3.Cursor at 0x1c35e66ec40>"
      ]
     },
     "execution_count": 25,
     "metadata": {},
     "output_type": "execute_result"
    }
   ],
   "source": [
    "\n",
    "conn.execute('''\n",
    "    CREATE TABLE IF NOT EXISTS patterns (\n",
    "        PatternID INTEGER ,\n",
    "        StockID INTEGER,\n",
    "        ClusterID INTEGER,\n",
    "        PricePoints TEXT,\n",
    "        VolumeData TEXT,\n",
    "        SentimentScore REAL,\n",
    "        TimeSpan VARCHAR(50),\n",
    "        MarketCondition VARCHAR(20),\n",
    "        Outcome REAL,\n",
    "        Label VARCHAR(50),\n",
    "        PRIMARY KEY (PatternID, StockID) \n",
    "    )\n",
    "''')"
   ]
  },
  {
   "cell_type": "markdown",
   "metadata": {},
   "source": [
    "# create cluster Table\n"
   ]
  },
  {
   "cell_type": "code",
   "execution_count": null,
   "metadata": {},
   "outputs": [
    {
     "data": {
      "text/plain": [
       "<sqlite3.Cursor at 0x1c35e62f6c0>"
      ]
     },
     "execution_count": 23,
     "metadata": {},
     "output_type": "execute_result"
    }
   ],
   "source": [
    "\n",
    "\n",
    "conn.execute('''\n",
    "    CREATE TABLE IF NOT EXISTS clusters (\n",
    "        ClusterID INTEGER ,\n",
    "        ClusterName VARCHAR(50),\n",
    "        StockID INTEGER,\n",
    "        Description TEXT,\n",
    "        AVGPricePoints TEXT,\n",
    "        AVGPercentageChanges TEXT,\n",
    "        AVGVolumeData TEXT,\n",
    "        SentimentScore REAL,\n",
    "        MarketCondition VARCHAR(20),\n",
    "        Outcome REAL,\n",
    "        Label VARCHAR(50),\n",
    "        ProbabilityScore REAL,\n",
    "        Pattern_Count INTEGER,\n",
    "        PRIMARY KEY (ClusterID, StockID) \n",
    "    )\n",
    "''')\n",
    "\n"
   ]
  },
  {
   "cell_type": "markdown",
   "metadata": {},
   "source": [
    "# Create User Table"
   ]
  },
  {
   "cell_type": "code",
   "execution_count": null,
   "metadata": {},
   "outputs": [
    {
     "data": {
      "text/plain": [
       "<sqlite3.Cursor at 0x17d58604a40>"
      ]
     },
     "execution_count": 2,
     "metadata": {},
     "output_type": "execute_result"
    }
   ],
   "source": [
    "\n",
    "\n",
    "conn.execute('''\n",
    "    CREATE TABLE IF NOT EXISTS users (\n",
    "        UserID INTEGER PRIMARY KEY,\n",
    "        Username VARCHAR(50) NOT NULL,\n",
    "        Password VARCHAR(255) NOT NULL,\n",
    "        Email VARCHAR(100) NOT NULL,\n",
    "        Preferences TEXT\n",
    "    )\n",
    "''')\n"
   ]
  },
  {
   "cell_type": "markdown",
   "metadata": {},
   "source": [
    "# Create Prediction Table\n"
   ]
  },
  {
   "cell_type": "code",
   "execution_count": null,
   "metadata": {},
   "outputs": [],
   "source": [
    "\n",
    "conn.execute('''\n",
    "    CREATE TABLE IF NOT EXISTS predictions (\n",
    "        PredictionID INTEGER PRIMARY KEY AUTOINCREMENT,\n",
    "        StockID INTEGER,\n",
    "        PatternID INTEGER,\n",
    "        SentimentID INTEGER,\n",
    "        PredictionDate DATETIME DATETIME DEFAULT CURRENT_TIMESTAMP,\n",
    "        PredictedOutcome TEXT CHECK(json_valid(PredictedOutcome)),\n",
    "        ConfidenceLevel FLOAT\n",
    "    )\n",
    "''')\n",
    "conn.commit()"
   ]
  },
  {
   "cell_type": "markdown",
   "metadata": {},
   "source": [
    "# Create Notification Table"
   ]
  },
  {
   "cell_type": "code",
   "execution_count": 10,
   "metadata": {},
   "outputs": [],
   "source": [
    "# Notification Table\n",
    "# Column Name\tData Type\tDescription\n",
    "# NotificationID\tINT (PK)\tUnique identifier for notification\n",
    "# UserID\tINT (FK)\tForeign key referencing User\n",
    "# PredictionID\tINT (FK)\tForeign key referencing Prediction\n",
    "# SentTime\tDATETIME\tTime notification was sent\n",
    "# NotificationType\tVARCHAR(50)\tType of notification\n",
    "# Status\tVARCHAR(20)\tNotification statusc\n",
    "\n",
    "conn.execute('''\n",
    "    CREATE TABLE IF NOT EXISTS notifications (\n",
    "        NotificationID INTEGER PRIMARY KEY AUTOINCREMENT,\n",
    "        UserID INTEGER,\n",
    "        PredictionID INTEGER,\n",
    "        SentTime DATETIME DEFAULT CURRENT_TIMESTAMP,\n",
    "        NotificationType VARCHAR(50),\n",
    "        Status VARCHAR(20)\n",
    "    )\n",
    "''')\n",
    "conn.commit()"
   ]
  },
  {
   "cell_type": "markdown",
   "metadata": {},
   "source": [
    "# Add ( Insert )"
   ]
  },
  {
   "cell_type": "code",
   "execution_count": null,
   "metadata": {},
   "outputs": [],
   "source": [
    "password = \"1234\"\n",
    "# hash the password\n",
    "hashed_password = bcrypt.hashpw(password.encode('utf-8'), bcrypt.gensalt()) \n",
    "# insert new admin user\n",
    "conn.execute('''\n",
    "    INSERT INTO users (Username, Password, Email, Preferences) values (?, ?, ?, ?)\n",
    "    ''' , (\"admin\",hashed_password,\"admin@admin.com\",\"admin\"))\n",
    "conn.commit()\n",
    "\n",
    "             "
   ]
  },
  {
   "cell_type": "markdown",
   "metadata": {},
   "source": [
    "# Alter"
   ]
  },
  {
   "cell_type": "code",
   "execution_count": 19,
   "metadata": {},
   "outputs": [
    {
     "ename": "OperationalError",
     "evalue": "near \"PRIMARY\": syntax error",
     "output_type": "error",
     "traceback": [
      "\u001b[1;31m---------------------------------------------------------------------------\u001b[0m",
      "\u001b[1;31mOperationalError\u001b[0m                          Traceback (most recent call last)",
      "Cell \u001b[1;32mIn[19], line 22\u001b[0m\n\u001b[0;32m      1\u001b[0m \u001b[38;5;66;03m# # alter table patterns to add new columns , MaxGain real , MaxDrawdown real\u001b[39;00m\n\u001b[0;32m      2\u001b[0m \u001b[38;5;66;03m# cur.execute('''\u001b[39;00m\n\u001b[0;32m      3\u001b[0m \u001b[38;5;66;03m#     ALTER TABLE patterns ADD COLUMN MaxGain REAL\u001b[39;00m\n\u001b[1;32m   (...)\u001b[0m\n\u001b[0;32m     19\u001b[0m \n\u001b[0;32m     20\u001b[0m \u001b[38;5;66;03m# alter table stock_data to male the combined primary key of StockID and stockEntryID and the timeframe\u001b[39;00m\n\u001b[1;32m---> 22\u001b[0m \u001b[43mcur\u001b[49m\u001b[38;5;241;43m.\u001b[39;49m\u001b[43mexecute\u001b[49m\u001b[43m(\u001b[49m\u001b[38;5;124;43m'''\u001b[39;49m\n\u001b[0;32m     23\u001b[0m \u001b[38;5;124;43m    ALTER TABLE stock_data DROP PRIMARY KEY\u001b[39;49m\n\u001b[0;32m     24\u001b[0m \u001b[38;5;124;43m'''\u001b[39;49m\u001b[43m)\u001b[49m\n\u001b[0;32m     25\u001b[0m cur\u001b[38;5;241m.\u001b[39mexecute(\u001b[38;5;124m'''\u001b[39m\n\u001b[0;32m     26\u001b[0m \u001b[38;5;124m    ALTER TABLE stock_data ADD PRIMARY KEY (StockID, StockEntryID, TimeFrame)\u001b[39m\n\u001b[0;32m     27\u001b[0m \u001b[38;5;124m'''\u001b[39m)\n",
      "\u001b[1;31mOperationalError\u001b[0m: near \"PRIMARY\": syntax error"
     ]
    }
   ],
   "source": [
    "# # alter table patterns to add new columns , MaxGain real , MaxDrawdown real\n",
    "# cur.execute('''\n",
    "#     ALTER TABLE patterns ADD COLUMN MaxGain REAL\n",
    "# ''')\n",
    "# cur.execute('''\n",
    "#     ALTER TABLE patterns ADD COLUMN MaxDrawdown REAL\n",
    "# ''')\n",
    "# # alter table clusters to add new columns , MaxGain real , MaxDrawdown real\n",
    "# cur.execute('''\n",
    "#     ALTER TABLE clusters ADD COLUMN MaxGain REAL\n",
    "# ''')\n",
    "# cur.execute('''\n",
    "#     ALTER TABLE clusters ADD COLUMN MaxDrawdown REAL\n",
    "# ''')\n",
    "# add column TimeFrame to stock_data table\n",
    "# cur.execute('''\n",
    "#     ALTER TABLE stock_data ADD COLUMN TimeFrame INTEGER\n",
    "# ''')\n",
    "\n",
    "# alter table stock_data to male the combined primary key of StockID and stockEntryID and the timeframe\n",
    "\n",
    "cur.execute('''\n",
    "    ALTER TABLE stock_data DROP PRIMARY KEY\n",
    "''')\n",
    "cur.execute('''\n",
    "    ALTER TABLE stock_data ADD PRIMARY KEY (StockID, StockEntryID, TimeFrame)\n",
    "''')\n",
    "            "
   ]
  },
  {
   "cell_type": "markdown",
   "metadata": {},
   "source": [
    "# select"
   ]
  },
  {
   "cell_type": "code",
   "execution_count": 78,
   "metadata": {},
   "outputs": [
    {
     "name": "stdout",
     "output_type": "stream",
     "text": [
      "       StockEntryID  StockID StockSymbol            Timestamp  OpenPrice  \\\n",
      "0                 1        1      XAUUSD  2014-02-10 12:00:00    1273.39   \n",
      "1                 2        1      XAUUSD  2014-02-10 13:00:00    1272.99   \n",
      "2                 3        1      XAUUSD  2014-02-10 14:00:00    1272.52   \n",
      "3                 4        1      XAUUSD  2014-02-10 15:00:00    1274.44   \n",
      "4                 5        1      XAUUSD  2014-02-10 16:00:00    1274.22   \n",
      "...             ...      ...         ...                  ...        ...   \n",
      "18682         30995        1      XAUUSD  2019-05-23 07:00:00    1273.02   \n",
      "18683         30996        1      XAUUSD  2019-05-23 08:00:00    1273.07   \n",
      "18684         30997        1      XAUUSD  2019-05-23 09:00:00    1274.41   \n",
      "18685         30998        1      XAUUSD  2019-05-23 10:00:00    1273.93   \n",
      "18686         30999        1      XAUUSD  2019-05-23 11:00:00    1274.50   \n",
      "\n",
      "       ClosePrice  HighPrice  LowPrice  Volume  \n",
      "0         1272.99    1273.88   1272.43  1794.0  \n",
      "1         1272.52    1272.99   1271.62  1958.0  \n",
      "2         1274.44    1274.74   1272.23  3118.0  \n",
      "3         1274.23    1277.83   1273.51  5244.0  \n",
      "4         1275.47    1275.65   1272.64  4455.0  \n",
      "...           ...        ...       ...     ...  \n",
      "18682     1273.07    1273.13   1272.83   302.0  \n",
      "18683     1274.43    1274.48   1272.86   619.0  \n",
      "18684     1273.93    1275.12   1273.77  1196.0  \n",
      "18685     1274.50    1275.32   1273.32  2000.0  \n",
      "18686     1275.80    1276.59   1274.11  1970.0  \n",
      "\n",
      "[18687 rows x 9 columns]\n"
     ]
    }
   ],
   "source": [
    "# select stock data where StockSymbol = 'XAUUSD' and OpenPrice < 1274.7\n",
    "df = pd.read_sql_query(\"SELECT * FROM stock_data where StockSymbol='XAUUSD' and OpenPrice < 1274.7\", conn)\n",
    "# print the dataframe\n",
    "print(df)"
   ]
  },
  {
   "cell_type": "markdown",
   "metadata": {},
   "source": [
    "# Delete"
   ]
  },
  {
   "cell_type": "code",
   "execution_count": 45,
   "metadata": {},
   "outputs": [],
   "source": [
    "# remove all entries from the stock_data table\n",
    "# conn.execute('DELETE FROM stock_data')\n",
    "conn.execute('DELETE FROM clusters')\n",
    "conn.execute('DELETE FROM patterns')\n",
    "conn.commit()"
   ]
  },
  {
   "cell_type": "markdown",
   "metadata": {},
   "source": [
    "# Drop"
   ]
  },
  {
   "cell_type": "code",
   "execution_count": 8,
   "metadata": {},
   "outputs": [],
   "source": [
    "# drop notifications table\n",
    "conn.execute('DROP TABLE IF EXISTS notifications')\n",
    "\n",
    "conn.commit()"
   ]
  },
  {
   "cell_type": "markdown",
   "metadata": {},
   "source": [
    "# Close Connection"
   ]
  },
  {
   "cell_type": "code",
   "execution_count": 6,
   "metadata": {},
   "outputs": [],
   "source": [
    "conn.close()"
   ]
  }
 ],
 "metadata": {
  "kernelspec": {
   "display_name": "Python 3",
   "language": "python",
   "name": "python3"
  },
  "language_info": {
   "codemirror_mode": {
    "name": "ipython",
    "version": 3
   },
   "file_extension": ".py",
   "mimetype": "text/x-python",
   "name": "python",
   "nbconvert_exporter": "python",
   "pygments_lexer": "ipython3",
   "version": "3.12.3"
  }
 },
 "nbformat": 4,
 "nbformat_minor": 2
}
