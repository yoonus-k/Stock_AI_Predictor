{
 "cells": [
  {
   "cell_type": "markdown",
   "id": "f193e179",
   "metadata": {},
   "source": [
    "# Stock AI Predictor - Parameter Testing on Google Colab\n",
    "\n",
    "This notebook runs parameter testing for stock prediction patterns using Google Colab's high-performance environment. It's designed to handle computationally intensive parameter combinations, especially for short timeframes like 1-minute data."
   ]
  },
  {
   "cell_type": "markdown",
   "id": "2df11840",
   "metadata": {},
   "source": [
    "## 1. Setup Environment\n",
    "\n",
    "First, let's mount Google Drive and install required packages:"
   ]
  },
  {
   "cell_type": "code",
   "execution_count": null,
   "id": "a5ce9985",
   "metadata": {},
   "outputs": [],
   "source": [
    "# Mount Google Drive\n",
    "from google.colab import drive\n",
    "drive.mount('/content/drive')"
   ]
  },
  {
   "cell_type": "code",
   "execution_count": null,
   "id": "bd773d82",
   "metadata": {},
   "outputs": [],
   "source": [
    "# Clone repository if not already in Drive\n",
    "!git clone https://github.com/YOUR_USERNAME/Stock_AI_Predictor.git /content/Stock_AI_Predictor\n",
    "\n",
    "# Or use existing repository from Drive\n",
    "# !ln -s /content/drive/MyDrive/Stock_AI_Predictor /content/Stock_AI_Predictor"
   ]
  },
  {
   "cell_type": "code",
   "execution_count": null,
   "id": "0e8d6ecb",
   "metadata": {},
   "outputs": [],
   "source": [
    "# Install required packages\n",
    "!pip install -r /content/Stock_AI_Predictor/requirements.txt\n",
    "!pip install tqdm bcrypt sqlitecloud python-dotenv"
   ]
  },
  {
   "cell_type": "markdown",
   "id": "5e5afc46",
   "metadata": {},
   "source": [
    "## 2. Upload Database to Colab\n",
    "\n",
    "### Option 1: Upload from local machine"
   ]
  },
  {
   "cell_type": "code",
   "execution_count": null,
   "id": "d775a54e",
   "metadata": {},
   "outputs": [],
   "source": [
    "from google.colab import files\n",
    "import os\n",
    "\n",
    "# Create directory for database\n",
    "!mkdir -p /content/Stock_AI_Predictor/Data/Storage\n",
    "\n",
    "# Upload database file\n",
    "uploaded = files.upload()\n",
    "for filename in uploaded.keys():\n",
    "    # Move uploaded file to the correct location\n",
    "    !mv \"{filename}\" \"/content/Stock_AI_Predictor/Data/Storage/data.db\"\n",
    "    print(f\"Uploaded {filename} to /content/Stock_AI_Predictor/Data/Storage/data.db\")"
   ]
  },
  {
   "cell_type": "markdown",
   "id": "12fa904a",
   "metadata": {},
   "source": [
    "### Option 2: Copy from Google Drive"
   ]
  },
  {
   "cell_type": "code",
   "execution_count": null,
   "id": "0f2c348f",
   "metadata": {},
   "outputs": [],
   "source": [
    "import shutil\n",
    "\n",
    "# Specify the source path in Google Drive\n",
    "drive_db_path = '/content/drive/MyDrive/Stock_AI_Predictor/Data/Storage/data.db'\n",
    "\n",
    "# Destination path in Colab\n",
    "colab_db_path = '/content/Stock_AI_Predictor/Data/Storage/data.db'\n",
    "\n",
    "# Ensure directory exists\n",
    "os.makedirs(os.path.dirname(colab_db_path), exist_ok=True)\n",
    "\n",
    "# Copy the file\n",
    "if os.path.exists(drive_db_path):\n",
    "    shutil.copy(drive_db_path, colab_db_path)\n",
    "    print(f\"Database copied from Drive to {colab_db_path}\")\n",
    "else:\n",
    "    print(f\"Database not found at {drive_db_path}\")"
   ]
  },
  {
   "cell_type": "markdown",
   "id": "a62421be",
   "metadata": {},
   "source": [
    "### Option 3: Connect to SQLite Cloud (if available)"
   ]
  },
  {
   "cell_type": "code",
   "execution_count": null,
   "id": "9b01b365",
   "metadata": {},
   "outputs": [],
   "source": [
    "# Create .env file with SQLite Cloud credentials\n",
    "%%writefile /content/Stock_AI_Predictor/.env\n",
    "SQLITECLOUD_URL=\"your_sqlitecloud_connection_string_here\""
   ]
  },
  {
   "cell_type": "markdown",
   "id": "32752568",
   "metadata": {},
   "source": [
    "## 3. Import and Run Parameter Tester"
   ]
  },
  {
   "cell_type": "code",
   "execution_count": null,
   "id": "e2317915",
   "metadata": {},
   "outputs": [],
   "source": [
    "# Add the project root to sys.path\n",
    "import sys\n",
    "sys.path.append('/content/Stock_AI_Predictor')\n",
    "\n",
    "# Import the Colab parameter tester\n",
    "from Experements.ParamTesting.colab_parameter_tester import ColabParameterTester\n",
    "\n",
    "# Create tester instance\n",
    "db_path = '/content/Stock_AI_Predictor/Data/Storage/data.db'\n",
    "tester = ColabParameterTester(db_path=db_path)"
   ]
  },
  {
   "cell_type": "code",
   "execution_count": null,
   "id": "db3ccebc",
   "metadata": {},
   "outputs": [],
   "source": [
    "# Check available stock and timeframe options\n",
    "stocks = tester.list_stocks()\n",
    "timeframes = tester.list_timeframes()\n",
    "\n",
    "print(\"Available stocks:\")\n",
    "for stock_id, stock_name in stocks:\n",
    "    print(f\"  {stock_id}: {stock_name}\")\n",
    "    \n",
    "print(\"\\nAvailable timeframes:\")\n",
    "for tf_id, tf_name in timeframes:\n",
    "    print(f\"  {tf_id}: {tf_name}\")"
   ]
  },
  {
   "cell_type": "code",
   "execution_count": null,
   "id": "931f6fd6",
   "metadata": {},
   "outputs": [],
   "source": [
    "# Run Parameter Tests - Choose One of the Options Below\n",
    "\n",
    "## Option 1: Run for a specific stock and timeframe with date range\n",
    "import datetime\n",
    "\n",
    "# Set date range for testing (optional)\n",
    "start_date = \"2022-01-01\"  # Can be None to use all available data\n",
    "end_date = datetime.datetime.now().strftime(\"%Y-%m-%d\")  # Use today as end date or None\n",
    "\n",
    "# Run the test and collect the results\n",
    "results, report = tester.run_parameter_testing_for_stock_timeframe_parallel(\n",
    "    \"GOLD\", \"M1\", \n",
    "    start_date=start_date, \n",
    "    end_date=end_date\n",
    ")\n",
    "\n",
    "## Option 2: Run a quick test (comment out Option 1 if you want to use this)\n",
    "# results = tester.run_quick_test(\"GOLD\", \"M1\")\n",
    "\n",
    "## Option 3: Compare hold period strategies (comment out Options 1 & 2 if you want to use this)\n",
    "# results = tester.compare_hold_period_strategies(\"GOLD\", \"M1\")\n",
    "\n",
    "## Option 4: Run all tests for multiple timeframes (comment out Options 1-3 if you want to use this)\n",
    "# all_results = tester.run_all_tests(stock_symbol=\"GOLD\")\n",
    "\n",
    "# Display top 5 parameter combinations if results exist\n",
    "if results is not None and not isinstance(results, dict):\n",
    "    print(\"\\nTop 5 parameter combinations:\")\n",
    "    print(results.head(5))\n",
    "elif results is not None and isinstance(results, dict):\n",
    "    print(\"\\nResults for multiple timeframes:\")\n",
    "    for tf, res in results.items():\n",
    "        if not res.empty:\n",
    "            print(f\"\\n{tf} - Top 3 combinations:\")\n",
    "            print(res.head(3))\n",
    "\n",
    "# Check GPU status during execution\n",
    "!nvidia-smi"
   ]
  },
  {
   "cell_type": "markdown",
   "id": "7f420018",
   "metadata": {},
   "source": [
    "## 4. Visualize Results"
   ]
  },
  {
   "cell_type": "code",
   "execution_count": null,
   "id": "da029229",
   "metadata": {},
   "outputs": [],
   "source": [
    "# Generate and display visualization\n",
    "if 'results' in locals() and results is not None and not isinstance(results, dict):\n",
    "    # For single timeframe results\n",
    "    fig = tester.visualize_results(results, \"GOLD\", \"M1\")\n",
    "elif 'results' in locals() and results is not None and isinstance(results, dict):\n",
    "    # For multiple timeframe results\n",
    "    for tf, res in results.items():\n",
    "        if not res.empty:\n",
    "            print(f\"\\nVisualizing results for {tf}:\")\n",
    "            fig = tester.visualize_results(res, \"GOLD\", tf)\n",
    "            \n",
    "# If all_results exists (from Option 4)\n",
    "elif 'all_results' in locals() and all_results is not None:\n",
    "    for tf, res in all_results.items():\n",
    "        if not res.empty:\n",
    "            print(f\"\\nVisualizing results for {tf}:\")\n",
    "            fig = tester.visualize_results(res, \"GOLD\", tf)"
   ]
  },
  {
   "cell_type": "code",
   "execution_count": null,
   "id": "831bde8c",
   "metadata": {},
   "outputs": [],
   "source": [
    "# Generate optimization report\n",
    "if 'report' in locals() and report is not None:\n",
    "    # If we already have a report from previous execution\n",
    "    print(report)\n",
    "elif 'results' in locals() and results is not None and not isinstance(results, dict):\n",
    "    # For single timeframe results\n",
    "    report = tester.generate_report(results, \"GOLD\", \"M1\")\n",
    "    print(report)\n",
    "elif 'results' in locals() and results is not None and isinstance(results, dict):\n",
    "    # For multiple timeframe results\n",
    "    for tf, res in results.items():\n",
    "        if not res.empty:\n",
    "            report = tester.generate_report(res, \"GOLD\", tf)\n",
    "            print(f\"\\nReport for {tf}:\")\n",
    "            print(report)\n",
    "            \n",
    "# If all_results exists (from Option 4)\n",
    "elif 'all_results' in locals() and all_results is not None:\n",
    "    for tf, res in all_results.items():\n",
    "        if not res.empty:\n",
    "            report = tester.generate_report(res, \"GOLD\", tf)\n",
    "            print(f\"\\nReport for {tf}:\")\n",
    "            print(report)"
   ]
  },
  {
   "cell_type": "markdown",
   "id": "2e331c1b",
   "metadata": {},
   "source": [
    "## 5. Save Results Back to Google Drive"
   ]
  },
  {
   "cell_type": "code",
   "execution_count": null,
   "id": "b597fe36",
   "metadata": {},
   "outputs": [],
   "source": [
    "# Copy the updated database back to Google Drive\n",
    "# This ensures your work is persisted\n",
    "import shutil\n",
    "import os\n",
    "\n",
    "# Source path in Colab\n",
    "colab_db_path = '/content/Stock_AI_Predictor/Data/Storage/data.db'\n",
    "\n",
    "# Destination path in Google Drive\n",
    "drive_db_dir = '/content/drive/MyDrive/Stock_AI_Predictor/Data/Storage'\n",
    "os.makedirs(drive_db_dir, exist_ok=True)\n",
    "drive_db_path = os.path.join(drive_db_dir, 'data.db')\n",
    "\n",
    "# Copy the file\n",
    "shutil.copy(colab_db_path, drive_db_path)\n",
    "print(f\"Updated database saved to {drive_db_path}\")"
   ]
  },
  {
   "cell_type": "markdown",
   "id": "dd1d6a2a",
   "metadata": {},
   "source": [
    "## 6. Save Report and Visualizations"
   ]
  },
  {
   "cell_type": "code",
   "execution_count": null,
   "id": "9493b078",
   "metadata": {},
   "outputs": [],
   "source": [
    "# Save report to a file\n",
    "import os\n",
    "\n",
    "def save_report(report_content, timeframe):\n",
    "    \"\"\"Helper function to save a report to Google Drive\"\"\"\n",
    "    if report_content:\n",
    "        report_path = f'/content/drive/MyDrive/Stock_AI_Predictor/docs/parameter_optimization_report_{timeframe}.md'\n",
    "        os.makedirs(os.path.dirname(report_path), exist_ok=True)\n",
    "        with open(report_path, 'w') as f:\n",
    "            f.write(report_content)\n",
    "        print(f\"Report saved to {report_path}\")\n",
    "\n",
    "# Save reports based on what data we have\n",
    "if 'report' in locals() and report is not None:\n",
    "    # If we have a single report\n",
    "    save_report(report, \"M1\")  # Adjust timeframe as needed\n",
    "    \n",
    "elif 'results' in locals() and results is not None and isinstance(results, dict):\n",
    "    # For multiple timeframe results\n",
    "    for tf, res in results.items():\n",
    "        if not res.empty:\n",
    "            tf_report = tester.generate_report(res, \"GOLD\", tf)\n",
    "            save_report(tf_report, tf)\n",
    "            \n",
    "# If all_results exists (from Option 4)\n",
    "elif 'all_results' in locals() and all_results is not None:\n",
    "    for tf, res in all_results.items():\n",
    "        if not res.empty:\n",
    "            tf_report = tester.generate_report(res, \"GOLD\", tf)\n",
    "            save_report(tf_report, tf)"
   ]
  },
  {
   "cell_type": "code",
   "execution_count": null,
   "id": "4a831851",
   "metadata": {},
   "outputs": [],
   "source": [
    "# Save visualizations\n",
    "import matplotlib.pyplot as plt\n",
    "import os\n",
    "\n",
    "def save_visualization(stock_symbol, timeframe):\n",
    "    \"\"\"Helper function to save a visualization to Google Drive\"\"\"\n",
    "    vis_path = f'/content/drive/MyDrive/Stock_AI_Predictor/Images/ParamTesting/{stock_symbol}_{timeframe}_parameter_test.png'\n",
    "    os.makedirs(os.path.dirname(vis_path), exist_ok=True)\n",
    "    \n",
    "    # Generate visualization again and save\n",
    "    fig = tester.visualize_results(stock_symbol, timeframe, save_path=vis_path)\n",
    "    print(f\"Visualization saved to {vis_path}\")\n",
    "    return vis_path\n",
    "\n",
    "# Save visualizations based on what data we have\n",
    "if 'results' in locals() and results is not None and not isinstance(results, dict):\n",
    "    # For single timeframe results\n",
    "    save_visualization(\"GOLD\", \"M1\")\n",
    "    \n",
    "elif 'results' in locals() and results is not None and isinstance(results, dict):\n",
    "    # For multiple timeframe results\n",
    "    for tf in results.keys():\n",
    "        save_visualization(\"GOLD\", tf)\n",
    "        \n",
    "# If all_results exists (from Option 4)\n",
    "elif 'all_results' in locals() and all_results is not None:\n",
    "    for tf in all_results.keys():\n",
    "        save_visualization(\"GOLD\", tf)"
   ]
  },
  {
   "cell_type": "markdown",
   "id": "7b4735d3",
   "metadata": {},
   "source": [
    "## 7. Download Database (Optional)"
   ]
  },
  {
   "cell_type": "code",
   "execution_count": null,
   "id": "f60adabf",
   "metadata": {},
   "outputs": [],
   "source": [
    "# Download the updated database to your local machine\n",
    "from google.colab import files\n",
    "files.download('/content/Stock_AI_Predictor/Data/Storage/data.db')"
   ]
  }
 ],
 "metadata": {
  "language_info": {
   "name": "python"
  }
 },
 "nbformat": 4,
 "nbformat_minor": 5
}
