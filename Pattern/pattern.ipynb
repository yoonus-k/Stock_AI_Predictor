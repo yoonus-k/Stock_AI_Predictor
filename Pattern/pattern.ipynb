{
 "cells": [
  {
   "cell_type": "code",
   "execution_count": 1,
   "metadata": {},
   "outputs": [
    {
     "name": "stdout",
     "output_type": "stream",
     "text": [
      "Connected to sqlite cloud database\n"
     ]
    }
   ],
   "source": [
    "import sys\n",
    "import os\n",
    "from pathlib import Path\n",
    "# Get the current working directory (where the notebook/script is running)\n",
    "current_dir = Path(os.getcwd())\n",
    "# Navigate to the 'main' folder (adjust if needed)\n",
    "main_dir = str(current_dir.parent)  # If notebook is inside 'main'\n",
    "# OR if notebook is outside 'main':\n",
    "# main_dir = str(current_dir / \"main\")  # Assumes 'main' is a subfolder\n",
    "sys.path.append(main_dir)\n",
    "# import DB\n",
    "from Data.db_cloud import Database\n",
    "db = Database()"
   ]
  },
  {
   "cell_type": "code",
   "execution_count": 5,
   "metadata": {},
   "outputs": [
    {
     "name": "stdout",
     "output_type": "stream",
     "text": [
      "Closed connection to database\n"
     ]
    }
   ],
   "source": [
    "db.close()"
   ]
  },
  {
   "cell_type": "code",
   "execution_count": null,
   "metadata": {},
   "outputs": [],
   "source": [
    "\n",
    "import pandas as pd\n",
    "\n",
    "from sklearn.model_selection import train_test_split\n",
    "\n",
    "# import the split lib to split the data into train and test\n",
    "from sklearn.model_selection import train_test_split\n",
    "\n",
    "from pip_pattern_miner import Pattern_Miner\n"
   ]
  },
  {
   "cell_type": "markdown",
   "metadata": {},
   "source": [
    "# Stocks "
   ]
  },
  {
   "cell_type": "code",
   "execution_count": 3,
   "metadata": {},
   "outputs": [],
   "source": [
    "companies = {\n",
    "    1: \"GOLD (XAUUSD)\",\n",
    "    2: \"BTC (BTCUSD)\",\n",
    "    3: \"APPL (AAPL)\",\n",
    "    4: \"Amazon (AMZN)\",\n",
    "    5: \"NVIDIA (NVDA)\",\n",
    "}\n",
    "\n",
    "time_frames = {\n",
    "    1: 15,  # minutes\n",
    "    2: 60,  # 1 hour\n",
    "}"
   ]
  },
  {
   "cell_type": "markdown",
   "metadata": {},
   "source": [
    "# Fetch Stock Data And Store In DB"
   ]
  },
  {
   "cell_type": "code",
   "execution_count": null,
   "metadata": {},
   "outputs": [
    {
     "ename": "KeyboardInterrupt",
     "evalue": "",
     "output_type": "error",
     "traceback": [
      "\u001b[1;31m---------------------------------------------------------------------------\u001b[0m",
      "\u001b[1;31mKeyboardInterrupt\u001b[0m                         Traceback (most recent call last)",
      "Cell \u001b[1;32mIn[4], line 37\u001b[0m\n\u001b[0;32m     35\u001b[0m     time_frame_15 \u001b[38;5;241m=\u001b[39m time_frames[\u001b[38;5;241m1\u001b[39m]\n\u001b[0;32m     36\u001b[0m     time_frame_60 \u001b[38;5;241m=\u001b[39m time_frames[\u001b[38;5;241m2\u001b[39m]\n\u001b[1;32m---> 37\u001b[0m     \u001b[43mprocess_stock_data\u001b[49m\u001b[43m(\u001b[49m\u001b[43mstock_id\u001b[49m\u001b[43m,\u001b[49m\u001b[43m \u001b[49m\u001b[43msymbol\u001b[49m\u001b[43m,\u001b[49m\u001b[43m \u001b[49m\u001b[43mtime_frame_15\u001b[49m\u001b[43m)\u001b[49m\n\u001b[0;32m     38\u001b[0m     process_stock_data(stock_id, symbol, time_frame_60)\n\u001b[0;32m     40\u001b[0m \u001b[38;5;28mprint\u001b[39m(\u001b[38;5;124m\"\u001b[39m\u001b[38;5;124mAll stocks processed.\u001b[39m\u001b[38;5;124m\"\u001b[39m)\n",
      "Cell \u001b[1;32mIn[4], line 25\u001b[0m, in \u001b[0;36mprocess_stock_data\u001b[1;34m(stock_id, symbol, time_frame)\u001b[0m\n\u001b[0;32m     22\u001b[0m     df_original \u001b[38;5;241m=\u001b[39m df_original\u001b[38;5;241m.\u001b[39mloc[\u001b[38;5;124m'\u001b[39m\u001b[38;5;124m2019-01-01\u001b[39m\u001b[38;5;124m'\u001b[39m:]\n\u001b[0;32m     24\u001b[0m     \u001b[38;5;66;03m# Store the data\u001b[39;00m\n\u001b[1;32m---> 25\u001b[0m     \u001b[43mdb\u001b[49m\u001b[38;5;241;43m.\u001b[39;49m\u001b[43mstore_stock_data\u001b[49m\u001b[43m(\u001b[49m\u001b[43mdf_original\u001b[49m\u001b[43m,\u001b[49m\u001b[43m \u001b[49m\u001b[43mstock_id\u001b[49m\u001b[43m,\u001b[49m\u001b[43m \u001b[49m\u001b[43mticker\u001b[49m\u001b[43m,\u001b[49m\u001b[43m \u001b[49m\u001b[43mtime_frame\u001b[49m\u001b[43m)\u001b[49m\n\u001b[0;32m     27\u001b[0m     \u001b[38;5;28;01mreturn\u001b[39;00m \u001b[38;5;28;01mTrue\u001b[39;00m\n\u001b[0;32m     29\u001b[0m \u001b[38;5;28;01mexcept\u001b[39;00m \u001b[38;5;167;01mException\u001b[39;00m \u001b[38;5;28;01mas\u001b[39;00m e:\n",
      "File \u001b[1;32mc:\\Users\\yoonus\\Documents\\GitHub\\Stock_AI_Predictor\\Data\\db.py:82\u001b[0m, in \u001b[0;36mDatabase.store_stock_data\u001b[1;34m(self, stock_data, stock_ID, stock_symbol, time_frame)\u001b[0m\n\u001b[0;32m     80\u001b[0m \u001b[38;5;28;01mfor\u001b[39;00m i, (index, row) \u001b[38;5;129;01min\u001b[39;00m \u001b[38;5;28menumerate\u001b[39m(stock_data\u001b[38;5;241m.\u001b[39miterrows(), start\u001b[38;5;241m=\u001b[39m\u001b[38;5;241m0\u001b[39m):\n\u001b[0;32m     81\u001b[0m     time_Stamp \u001b[38;5;241m=\u001b[39m index\u001b[38;5;241m.\u001b[39mstrftime(\u001b[38;5;124m'\u001b[39m\u001b[38;5;124m%\u001b[39m\u001b[38;5;124mY-\u001b[39m\u001b[38;5;124m%\u001b[39m\u001b[38;5;124mm-\u001b[39m\u001b[38;5;132;01m%d\u001b[39;00m\u001b[38;5;124m \u001b[39m\u001b[38;5;124m%\u001b[39m\u001b[38;5;124mH:\u001b[39m\u001b[38;5;124m%\u001b[39m\u001b[38;5;124mM:\u001b[39m\u001b[38;5;124m%\u001b[39m\u001b[38;5;124mS\u001b[39m\u001b[38;5;124m'\u001b[39m)\n\u001b[1;32m---> 82\u001b[0m     \u001b[38;5;28;43mself\u001b[39;49m\u001b[38;5;241;43m.\u001b[39;49m\u001b[43mconnection\u001b[49m\u001b[38;5;241;43m.\u001b[39;49m\u001b[43mexecute\u001b[49m\u001b[43m(\u001b[49m\u001b[38;5;124;43m'''\u001b[39;49m\n\u001b[0;32m     83\u001b[0m \u001b[38;5;124;43m        INSERT INTO stock_data (StockEntryID, StockID, StockSymbol, Timestamp,TimeFrame ,OpenPrice, ClosePrice, HighPrice, LowPrice, Volume)\u001b[39;49m\n\u001b[0;32m     84\u001b[0m \u001b[38;5;124;43m        VALUES (?, ?, ?, ?, ?, ?, ?, ?, ?, ?)\u001b[39;49m\n\u001b[0;32m     85\u001b[0m \u001b[38;5;124;43m    \u001b[39;49m\u001b[38;5;124;43m'''\u001b[39;49m\u001b[43m,\u001b[49m\u001b[43m \u001b[49m\u001b[43m(\u001b[49m\u001b[43mi\u001b[49m\u001b[43m,\u001b[49m\u001b[43m \u001b[49m\u001b[43mstock_ID\u001b[49m\u001b[43m,\u001b[49m\u001b[43m \u001b[49m\u001b[43mstock_symbol\u001b[49m\u001b[43m,\u001b[49m\u001b[43m \u001b[49m\u001b[43mtime_Stamp\u001b[49m\u001b[43m,\u001b[49m\u001b[43m \u001b[49m\u001b[43mtime_frame\u001b[49m\u001b[43m,\u001b[49m\u001b[43m \u001b[49m\u001b[43mrow\u001b[49m\u001b[43m[\u001b[49m\u001b[38;5;124;43m'\u001b[39;49m\u001b[38;5;124;43mOpen\u001b[39;49m\u001b[38;5;124;43m'\u001b[39;49m\u001b[43m]\u001b[49m\u001b[43m,\u001b[49m\u001b[43m \u001b[49m\u001b[43mrow\u001b[49m\u001b[43m[\u001b[49m\u001b[38;5;124;43m'\u001b[39;49m\u001b[38;5;124;43mClose\u001b[39;49m\u001b[38;5;124;43m'\u001b[39;49m\u001b[43m]\u001b[49m\u001b[43m,\u001b[49m\u001b[43m \u001b[49m\u001b[43mrow\u001b[49m\u001b[43m[\u001b[49m\u001b[38;5;124;43m'\u001b[39;49m\u001b[38;5;124;43mHigh\u001b[39;49m\u001b[38;5;124;43m'\u001b[39;49m\u001b[43m]\u001b[49m\u001b[43m,\u001b[49m\u001b[43m \u001b[49m\u001b[43mrow\u001b[49m\u001b[43m[\u001b[49m\u001b[38;5;124;43m'\u001b[39;49m\u001b[38;5;124;43mLow\u001b[39;49m\u001b[38;5;124;43m'\u001b[39;49m\u001b[43m]\u001b[49m\u001b[43m,\u001b[49m\u001b[43m \u001b[49m\u001b[43mrow\u001b[49m\u001b[43m[\u001b[49m\u001b[38;5;124;43m'\u001b[39;49m\u001b[38;5;124;43mVolume\u001b[39;49m\u001b[38;5;124;43m'\u001b[39;49m\u001b[43m]\u001b[49m\u001b[43m)\u001b[49m\u001b[43m)\u001b[49m \n\u001b[0;32m     86\u001b[0m \u001b[38;5;66;03m# commit the changes\u001b[39;00m\n\u001b[0;32m     87\u001b[0m \u001b[38;5;28mself\u001b[39m\u001b[38;5;241m.\u001b[39mconnection\u001b[38;5;241m.\u001b[39mcommit()\n",
      "File \u001b[1;32mc:\\Users\\yoonus\\AppData\\Local\\Programs\\Python\\Python312\\Lib\\site-packages\\sqlitecloud\\dbapi2.py:277\u001b[0m, in \u001b[0;36mConnection.execute\u001b[1;34m(self, sql, parameters)\u001b[0m\n\u001b[0;32m    263\u001b[0m \u001b[38;5;250m\u001b[39m\u001b[38;5;124;03m\"\"\"\u001b[39;00m\n\u001b[0;32m    264\u001b[0m \u001b[38;5;124;03mShortcut for cursor.execute().\u001b[39;00m\n\u001b[0;32m    265\u001b[0m \u001b[38;5;124;03mSee the docstring of Cursor.execute() for more information.\u001b[39;00m\n\u001b[1;32m   (...)\u001b[0m\n\u001b[0;32m    274\u001b[0m \u001b[38;5;124;03m    Cursor: The cursor object.\u001b[39;00m\n\u001b[0;32m    275\u001b[0m \u001b[38;5;124;03m\"\"\"\u001b[39;00m\n\u001b[0;32m    276\u001b[0m cursor \u001b[38;5;241m=\u001b[39m \u001b[38;5;28mself\u001b[39m\u001b[38;5;241m.\u001b[39mcursor()\n\u001b[1;32m--> 277\u001b[0m \u001b[38;5;28;01mreturn\u001b[39;00m \u001b[43mcursor\u001b[49m\u001b[38;5;241;43m.\u001b[39;49m\u001b[43mexecute\u001b[49m\u001b[43m(\u001b[49m\u001b[43msql\u001b[49m\u001b[43m,\u001b[49m\u001b[43m \u001b[49m\u001b[43mparameters\u001b[49m\u001b[43m)\u001b[49m\n",
      "File \u001b[1;32mc:\\Users\\yoonus\\AppData\\Local\\Programs\\Python\\Python312\\Lib\\site-packages\\sqlitecloud\\dbapi2.py:583\u001b[0m, in \u001b[0;36mCursor.execute\u001b[1;34m(self, sql, parameters)\u001b[0m\n\u001b[0;32m    580\u001b[0m \u001b[38;5;28;01mif\u001b[39;00m \u001b[38;5;28misinstance\u001b[39m(parameters, \u001b[38;5;28mdict\u001b[39m):\n\u001b[0;32m    581\u001b[0m     parameters \u001b[38;5;241m=\u001b[39m \u001b[38;5;28mself\u001b[39m\u001b[38;5;241m.\u001b[39m_named_to_question_mark_parameters(sql, parameters)\n\u001b[1;32m--> 583\u001b[0m result \u001b[38;5;241m=\u001b[39m \u001b[38;5;28;43mself\u001b[39;49m\u001b[38;5;241;43m.\u001b[39;49m\u001b[43m_driver\u001b[49m\u001b[38;5;241;43m.\u001b[39;49m\u001b[43mexecute_statement\u001b[49m\u001b[43m(\u001b[49m\n\u001b[0;32m    584\u001b[0m \u001b[43m    \u001b[49m\u001b[43msql\u001b[49m\u001b[43m,\u001b[49m\u001b[43m \u001b[49m\u001b[43mparameters\u001b[49m\u001b[43m,\u001b[49m\u001b[43m \u001b[49m\u001b[38;5;28;43mself\u001b[39;49m\u001b[38;5;241;43m.\u001b[39;49m\u001b[43mconnection\u001b[49m\u001b[38;5;241;43m.\u001b[39;49m\u001b[43msqlitecloud_connection\u001b[49m\n\u001b[0;32m    585\u001b[0m \u001b[43m\u001b[49m\u001b[43m)\u001b[49m\n\u001b[0;32m    587\u001b[0m \u001b[38;5;28mself\u001b[39m\u001b[38;5;241m.\u001b[39m_resultset \u001b[38;5;241m=\u001b[39m \u001b[38;5;28;01mNone\u001b[39;00m\n\u001b[0;32m    588\u001b[0m \u001b[38;5;28mself\u001b[39m\u001b[38;5;241m.\u001b[39m_result_operation \u001b[38;5;241m=\u001b[39m \u001b[38;5;28;01mNone\u001b[39;00m\n",
      "File \u001b[1;32mc:\\Users\\yoonus\\AppData\\Local\\Programs\\Python\\Python312\\Lib\\site-packages\\sqlitecloud\\driver.py:109\u001b[0m, in \u001b[0;36mDriver.execute_statement\u001b[1;34m(self, query, bindings, connection)\u001b[0m\n\u001b[0;32m    101\u001b[0m \u001b[38;5;250m\u001b[39m\u001b[38;5;124;03m\"\"\"\u001b[39;00m\n\u001b[0;32m    102\u001b[0m \u001b[38;5;124;03mExecute the statement on the SQLite Cloud server.\u001b[39;00m\n\u001b[0;32m    103\u001b[0m \u001b[38;5;124;03mIt supports only the `qmark` style for parameter binding.\u001b[39;00m\n\u001b[0;32m    104\u001b[0m \u001b[38;5;124;03m\"\"\"\u001b[39;00m\n\u001b[0;32m    105\u001b[0m command \u001b[38;5;241m=\u001b[39m \u001b[38;5;28mself\u001b[39m\u001b[38;5;241m.\u001b[39m_internal_serialize_command(\n\u001b[0;32m    106\u001b[0m     [query] \u001b[38;5;241m+\u001b[39m \u001b[38;5;28mlist\u001b[39m(bindings), zero_string\u001b[38;5;241m=\u001b[39m\u001b[38;5;28;01mTrue\u001b[39;00m\n\u001b[0;32m    107\u001b[0m )\n\u001b[1;32m--> 109\u001b[0m result \u001b[38;5;241m=\u001b[39m \u001b[38;5;28;43mself\u001b[39;49m\u001b[38;5;241;43m.\u001b[39;49m\u001b[43m_internal_run_command\u001b[49m\u001b[43m(\u001b[49m\u001b[43mconnection\u001b[49m\u001b[43m,\u001b[49m\u001b[43m \u001b[49m\u001b[43mcommand\u001b[49m\u001b[43m)\u001b[49m\n\u001b[0;32m    111\u001b[0m \u001b[38;5;28;01mif\u001b[39;00m result\u001b[38;5;241m.\u001b[39mtag \u001b[38;5;241m!=\u001b[39m SQLITECLOUD_RESULT_TYPE\u001b[38;5;241m.\u001b[39mRESULT_ARRAY:\n\u001b[0;32m    112\u001b[0m     \u001b[38;5;28;01mreturn\u001b[39;00m result\n",
      "File \u001b[1;32mc:\\Users\\yoonus\\AppData\\Local\\Programs\\Python\\Python312\\Lib\\site-packages\\sqlitecloud\\driver.py:482\u001b[0m, in \u001b[0;36mDriver._internal_run_command\u001b[1;34m(self, connection, command, main_socket)\u001b[0m\n\u001b[0;32m    476\u001b[0m     \u001b[38;5;28;01mraise\u001b[39;00m SQLiteCloudException(\n\u001b[0;32m    477\u001b[0m         \u001b[38;5;124m\"\u001b[39m\u001b[38;5;124mThe connection is closed.\u001b[39m\u001b[38;5;124m\"\u001b[39m,\n\u001b[0;32m    478\u001b[0m         SQLITECLOUD_INTERNAL_ERRCODE\u001b[38;5;241m.\u001b[39mNETWORK,\n\u001b[0;32m    479\u001b[0m     )\n\u001b[0;32m    481\u001b[0m \u001b[38;5;28mself\u001b[39m\u001b[38;5;241m.\u001b[39m_internal_socket_write(connection, command, main_socket)\n\u001b[1;32m--> 482\u001b[0m \u001b[38;5;28;01mreturn\u001b[39;00m \u001b[38;5;28;43mself\u001b[39;49m\u001b[38;5;241;43m.\u001b[39;49m\u001b[43m_internal_socket_read\u001b[49m\u001b[43m(\u001b[49m\u001b[43mconnection\u001b[49m\u001b[43m,\u001b[49m\u001b[43m \u001b[49m\u001b[43mmain_socket\u001b[49m\u001b[43m)\u001b[49m\n",
      "File \u001b[1;32mc:\\Users\\yoonus\\AppData\\Local\\Programs\\Python\\Python312\\Lib\\site-packages\\sqlitecloud\\driver.py:535\u001b[0m, in \u001b[0;36mDriver._internal_socket_read\u001b[1;34m(self, connection, main_socket)\u001b[0m\n\u001b[0;32m    533\u001b[0m \u001b[38;5;28;01mwhile\u001b[39;00m \u001b[38;5;28;01mTrue\u001b[39;00m:\n\u001b[0;32m    534\u001b[0m     \u001b[38;5;28;01mtry\u001b[39;00m:\n\u001b[1;32m--> 535\u001b[0m         data \u001b[38;5;241m=\u001b[39m \u001b[43msock\u001b[49m\u001b[38;5;241;43m.\u001b[39;49m\u001b[43mrecv\u001b[49m\u001b[43m(\u001b[49m\u001b[38;5;241;43m1\u001b[39;49m\u001b[43m)\u001b[49m\n\u001b[0;32m    536\u001b[0m         \u001b[38;5;28;01mif\u001b[39;00m \u001b[38;5;129;01mnot\u001b[39;00m data:\n\u001b[0;32m    537\u001b[0m             \u001b[38;5;28;01mraise\u001b[39;00m SQLiteCloudException(\n\u001b[0;32m    538\u001b[0m                 \u001b[38;5;124m\"\u001b[39m\u001b[38;5;124mIncomplete response from server. Cannot read the command length.\u001b[39m\u001b[38;5;124m\"\u001b[39m\n\u001b[0;32m    539\u001b[0m             )\n",
      "File \u001b[1;32mc:\\Users\\yoonus\\AppData\\Local\\Programs\\Python\\Python312\\Lib\\ssl.py:1233\u001b[0m, in \u001b[0;36mSSLSocket.recv\u001b[1;34m(self, buflen, flags)\u001b[0m\n\u001b[0;32m   1229\u001b[0m     \u001b[38;5;28;01mif\u001b[39;00m flags \u001b[38;5;241m!=\u001b[39m \u001b[38;5;241m0\u001b[39m:\n\u001b[0;32m   1230\u001b[0m         \u001b[38;5;28;01mraise\u001b[39;00m \u001b[38;5;167;01mValueError\u001b[39;00m(\n\u001b[0;32m   1231\u001b[0m             \u001b[38;5;124m\"\u001b[39m\u001b[38;5;124mnon-zero flags not allowed in calls to recv() on \u001b[39m\u001b[38;5;132;01m%s\u001b[39;00m\u001b[38;5;124m\"\u001b[39m \u001b[38;5;241m%\u001b[39m\n\u001b[0;32m   1232\u001b[0m             \u001b[38;5;28mself\u001b[39m\u001b[38;5;241m.\u001b[39m\u001b[38;5;18m__class__\u001b[39m)\n\u001b[1;32m-> 1233\u001b[0m     \u001b[38;5;28;01mreturn\u001b[39;00m \u001b[38;5;28;43mself\u001b[39;49m\u001b[38;5;241;43m.\u001b[39;49m\u001b[43mread\u001b[49m\u001b[43m(\u001b[49m\u001b[43mbuflen\u001b[49m\u001b[43m)\u001b[49m\n\u001b[0;32m   1234\u001b[0m \u001b[38;5;28;01melse\u001b[39;00m:\n\u001b[0;32m   1235\u001b[0m     \u001b[38;5;28;01mreturn\u001b[39;00m \u001b[38;5;28msuper\u001b[39m()\u001b[38;5;241m.\u001b[39mrecv(buflen, flags)\n",
      "File \u001b[1;32mc:\\Users\\yoonus\\AppData\\Local\\Programs\\Python\\Python312\\Lib\\ssl.py:1106\u001b[0m, in \u001b[0;36mSSLSocket.read\u001b[1;34m(self, len, buffer)\u001b[0m\n\u001b[0;32m   1104\u001b[0m         \u001b[38;5;28;01mreturn\u001b[39;00m \u001b[38;5;28mself\u001b[39m\u001b[38;5;241m.\u001b[39m_sslobj\u001b[38;5;241m.\u001b[39mread(\u001b[38;5;28mlen\u001b[39m, buffer)\n\u001b[0;32m   1105\u001b[0m     \u001b[38;5;28;01melse\u001b[39;00m:\n\u001b[1;32m-> 1106\u001b[0m         \u001b[38;5;28;01mreturn\u001b[39;00m \u001b[38;5;28;43mself\u001b[39;49m\u001b[38;5;241;43m.\u001b[39;49m\u001b[43m_sslobj\u001b[49m\u001b[38;5;241;43m.\u001b[39;49m\u001b[43mread\u001b[49m\u001b[43m(\u001b[49m\u001b[38;5;28;43mlen\u001b[39;49m\u001b[43m)\u001b[49m\n\u001b[0;32m   1107\u001b[0m \u001b[38;5;28;01mexcept\u001b[39;00m SSLError \u001b[38;5;28;01mas\u001b[39;00m x:\n\u001b[0;32m   1108\u001b[0m     \u001b[38;5;28;01mif\u001b[39;00m x\u001b[38;5;241m.\u001b[39margs[\u001b[38;5;241m0\u001b[39m] \u001b[38;5;241m==\u001b[39m SSL_ERROR_EOF \u001b[38;5;129;01mand\u001b[39;00m \u001b[38;5;28mself\u001b[39m\u001b[38;5;241m.\u001b[39msuppress_ragged_eofs:\n",
      "\u001b[1;31mKeyboardInterrupt\u001b[0m: "
     ]
    }
   ],
   "source": [
    "\n",
    "def process_stock_data(stock_id, symbol, time_frame):\n",
    "    try:\n",
    "        # Extract the ticker symbol from the format \"Name (TICKER)\"\n",
    "        ticker = symbol.split('(')[-1].replace(')', '').strip()\n",
    "        \n",
    "        # Construct file path\n",
    "        file_path = f\"../Data/Stocks/{ticker}{time_frame}.csv\"\n",
    "        \n",
    "        # Read and process the data\n",
    "        df_original = pd.read_csv(file_path)\n",
    "        \n",
    "        # create the datetime index\n",
    "        df_original['Date'] = pd.to_datetime(df_original['Date'] + ' ' + df_original['Time'])\n",
    "        df_original['Date'] = df_original['Date'].astype('datetime64[s]')\n",
    "        df_original = df_original.set_index('Date')\n",
    "        df_original = df_original.drop(columns=['Time'])\n",
    "        \n",
    "        df_original = df_original.dropna()\n",
    "        df_original = df_original.loc['2019-01-01':]\n",
    "        \n",
    "        # Store the data\n",
    "        db.store_stock_data(df_original, stock_id, ticker, time_frame)\n",
    "        \n",
    "        return True\n",
    "        \n",
    "    except Exception as e:\n",
    "        print(f\"Error processing {symbol} (ID: {stock_id}): {str(e)}\")\n",
    "        return False\n",
    "\n",
    "# Process all companies\n",
    "for stock_id, symbol in companies.items():\n",
    "    time_frame_15 = time_frames[1]\n",
    "    time_frame_60 = time_frames[2]\n",
    "    process_stock_data(stock_id, symbol, time_frame_15)\n",
    "    process_stock_data(stock_id, symbol, time_frame_60)\n",
    "\n",
    "print(\"All stocks processed.\")"
   ]
  },
  {
   "cell_type": "markdown",
   "metadata": {},
   "source": [
    "# Pattern Mining"
   ]
  },
  {
   "cell_type": "code",
   "execution_count": null,
   "metadata": {},
   "outputs": [
    {
     "name": "stdout",
     "output_type": "stream",
     "text": [
      "\n",
      "Processing GOLD (XAUUSD) (ID: 1) with timeframe 60...\n",
      "Data split - Train: (29693,), Test: (7424,)\n",
      "Successfully processed patterns for GOLD (XAUUSD) (ID: 1) with timeframe 60.\n",
      "\n",
      "Processing BTC (BTCUSD) (ID: 2) with timeframe 60...\n",
      "Data split - Train: (38004,), Test: (9502,)\n",
      "Successfully processed patterns for BTC (BTCUSD) (ID: 2) with timeframe 60.\n",
      "\n",
      "Processing APPL (AAPL) (ID: 3) with timeframe 60...\n",
      "Data split - Train: (8804,), Test: (2202,)\n",
      "Successfully processed patterns for APPL (AAPL) (ID: 3) with timeframe 60.\n",
      "\n",
      "Processing Amazon (AMZN) (ID: 4) with timeframe 60...\n",
      "Data split - Train: (8804,), Test: (2202,)\n",
      "Successfully processed patterns for Amazon (AMZN) (ID: 4) with timeframe 60.\n",
      "\n",
      "Processing NVIDIA (NVDA) (ID: 5) with timeframe 60...\n",
      "Data split - Train: (8804,), Test: (2202,)\n",
      "Successfully processed patterns for NVIDIA (NVDA) (ID: 5) with timeframe 60.\n",
      "Closed connection to database: ../Data/data.db\n",
      "\n",
      "Pattern mining completed for all stocks.\n"
     ]
    }
   ],
   "source": [
    "\n",
    "def perform_pattern_mining_for_all_stocks(n_pips=5, lookback=24, hold_period=6, returns_hold_period=12, time_frame=60):\n",
    "  \n",
    "    for stock_id, symbol in companies.items():\n",
    "        try:\n",
    "            print(f\"\\nProcessing {symbol} (ID: {stock_id}) with timeframe {time_frame}...\")\n",
    "            \n",
    "            # Fetch stock data from database\n",
    "            df = db.get_stock_data(stock_id, time_frame)\n",
    "            \n",
    "            if df.empty:\n",
    "                print(f\"No data found for {symbol} (ID: {stock_id})\")\n",
    "                continue\n",
    "                \n",
    "            # Prepare the close prices array\n",
    "            arr = df['ClosePrice'].to_numpy()\n",
    "            \n",
    "            # Split data into train and test (optional)\n",
    "            train, test = train_test_split(arr, test_size=0.2, shuffle=False)\n",
    "            print(f\"Data split - Train: {train.shape}, Test: {test.shape}\")\n",
    "            \n",
    "            # Create and train the pip miner\n",
    "            pip_miner = Pattern_Miner(n_pips, lookback, hold_period, returns_hold_period)\n",
    "            pip_miner.train(train)\n",
    "            \n",
    "            # Store the patterns and clusters\n",
    "            db.pip_pattern_miner = pip_miner\n",
    "            db.store_pattern_data(stock_id, pip_miner)\n",
    "            db.store_cluster_data(stock_id , pip_miner)\n",
    "            db.bind_pattern_cluster(stock_id , pip_miner)\n",
    "            db.update_all_cluster_probability_score(stock_id,pip_miner)\n",
    "                \n",
    "            print(f\"Successfully processed patterns for {symbol} (ID: {stock_id}) with timeframe {time_frame}.\")\n",
    "            \n",
    "        except Exception as e:\n",
    "            print(f\"Error processing {symbol} (ID: {stock_id}): {str(e)}\")\n",
    "    \n",
    "    db.close()\n",
    "    print(\"\\nPattern mining completed for all stocks.\")\n",
    "\n",
    "# Usage:\n",
    "perform_pattern_mining_for_all_stocks(5, 24, 6, 12)"
   ]
  },
  {
   "cell_type": "markdown",
   "metadata": {},
   "source": [
    "# Get Train & Test Dates"
   ]
  },
  {
   "cell_type": "code",
   "execution_count": 5,
   "metadata": {},
   "outputs": [
    {
     "name": "stdout",
     "output_type": "stream",
     "text": [
      "Train Dates: (Timestamp('2019-01-02 01:00:00'), Timestamp('2024-01-08 01:00:00'))\n",
      "Test Dates: (Timestamp('2024-01-09 01:00:00'), Timestamp('2025-04-10 23:00:00'))\n"
     ]
    }
   ],
   "source": [
    "# determine the test and train data dates \n",
    "def get_test_train_dates(stock_id, time_frame):\n",
    "    try:\n",
    "        # Fetch stock data from database\n",
    "        df = db.get_stock_data(stock_id, time_frame)\n",
    "        \n",
    "        if df.empty:\n",
    "            print(f\"No data found for stock ID: {stock_id}\")\n",
    "            return None, None\n",
    "        \n",
    "        # Get the first and last dates of the dataset\n",
    "        start_date = df.index[0]\n",
    "        end_date = df.index[-1]\n",
    "        \n",
    "        # Split the data into train and test sets\n",
    "        train_start_date = start_date\n",
    "        train_end_date = start_date + pd.DateOffset(days=int((end_date - start_date).days * 0.8))\n",
    "        test_start_date = train_end_date + pd.DateOffset(days=1)\n",
    "        test_end_date = end_date\n",
    "        \n",
    "        return (train_start_date, train_end_date), (test_start_date, test_end_date)\n",
    "        \n",
    "    except Exception as e:\n",
    "        print(f\"Error fetching dates for stock ID {stock_id}: {str(e)}\")\n",
    "        return None, None\n",
    "    \n",
    "train , test = get_test_train_dates(1, 60)\n",
    "print(f\"Train Dates: {train}\")\n",
    "print(f\"Test Dates: {test}\")"
   ]
  }
 ],
 "metadata": {
  "kernelspec": {
   "display_name": "Python 3",
   "language": "python",
   "name": "python3"
  },
  "language_info": {
   "codemirror_mode": {
    "name": "ipython",
    "version": 3
   },
   "file_extension": ".py",
   "mimetype": "text/x-python",
   "name": "python",
   "nbconvert_exporter": "python",
   "pygments_lexer": "ipython3",
   "version": "3.12.3"
  }
 },
 "nbformat": 4,
 "nbformat_minor": 2
}
