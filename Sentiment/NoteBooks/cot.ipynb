{
 "cells": [
  {
   "cell_type": "code",
   "execution_count": 1,
   "id": "ad4a3377",
   "metadata": {},
   "outputs": [
    {
     "data": {
      "application/vnd.microsoft.datawrangler.viewer.v0+json": {
       "columns": [
        {
         "name": "date",
         "rawType": "datetime64[ns]",
         "type": "datetime"
        },
        {
         "name": "ticker",
         "rawType": "object",
         "type": "string"
        },
        {
         "name": "change_noncommercial_long",
         "rawType": "int64",
         "type": "integer"
        },
        {
         "name": "change_noncommercial_short",
         "rawType": "int64",
         "type": "integer"
        },
        {
         "name": "change_nonrept_long",
         "rawType": "int64",
         "type": "integer"
        },
        {
         "name": "change_nonrept_short",
         "rawType": "int64",
         "type": "integer"
        },
        {
         "name": "change_noncommercial_delta",
         "rawType": "int64",
         "type": "integer"
        },
        {
         "name": "change_nonreportable_delta",
         "rawType": "int64",
         "type": "integer"
        }
       ],
       "ref": "55f15df1-3e96-4b6a-b091-4ecddb131786",
       "rows": [
        [
         "2025-05-27 00:00:00",
         "XAUUSD",
         "-3975",
         "-14178",
         "2488",
         "2752",
         "10203",
         "-264"
        ],
        [
         "2025-05-20 00:00:00",
         "XAUUSD",
         "-129",
         "-2901",
         "2483",
         "-1186",
         "2772",
         "3669"
        ],
        [
         "2025-05-13 00:00:00",
         "XAUUSD",
         "746",
         "2034",
         "-1062",
         "-1454",
         "-1288",
         "392"
        ],
        [
         "2025-05-06 00:00:00",
         "XAUUSD",
         "-2932",
         "-2111",
         "1957",
         "-206",
         "-821",
         "2163"
        ],
        [
         "2025-04-29 00:00:00",
         "XAUUSD",
         "-18519",
         "-6459",
         "-229",
         "-782",
         "-12060",
         "553"
        ],
        [
         "2025-04-22 00:00:00",
         "XAUUSD",
         "-12811",
         "14021",
         "-445",
         "2367",
         "-26832",
         "-2812"
        ],
        [
         "2025-04-15 00:00:00",
         "XAUUSD",
         "1874",
         "379",
         "863",
         "2629",
         "1495",
         "-1766"
        ],
        [
         "2025-04-08 00:00:00",
         "XAUUSD",
         "-58103",
         "-20384",
         "-202",
         "-5043",
         "-37719",
         "4841"
        ],
        [
         "2025-04-01 00:00:00",
         "XAUUSD",
         "11364",
         "22726",
         "-2164",
         "11",
         "-11362",
         "-2175"
        ],
        [
         "2025-03-25 00:00:00",
         "XAUUSD",
         "-5082",
         "3054",
         "11",
         "-1555",
         "-8136",
         "1566"
        ],
        [
         "2025-03-18 00:00:00",
         "XAUUSD",
         "25482",
         "3650",
         "-906",
         "946",
         "21832",
         "-1852"
        ],
        [
         "2025-03-11 00:00:00",
         "XAUUSD",
         "-6960",
         "201",
         "4145",
         "2911",
         "-7161",
         "1234"
        ],
        [
         "2025-03-04 00:00:00",
         "XAUUSD",
         "-13816",
         "4548",
         "799",
         "-580",
         "-18364",
         "1379"
        ],
        [
         "2025-02-25 00:00:00",
         "XAUUSD",
         "-17095",
         "-10046",
         "-2079",
         "-1157",
         "-7049",
         "-922"
        ],
        [
         "2025-02-18 00:00:00",
         "XAUUSD",
         "-9723",
         "6107",
         "1373",
         "-640",
         "-15830",
         "2013"
        ],
        [
         "2025-02-11 00:00:00",
         "XAUUSD",
         "-12734",
         "5270",
         "-13",
         "270",
         "-18004",
         "-283"
        ],
        [
         "2025-02-04 00:00:00",
         "XAUUSD",
         "18129",
         "15030",
         "298",
         "-1056",
         "3099",
         "1354"
        ],
        [
         "2025-01-28 00:00:00",
         "XAUUSD",
         "1082",
         "2457",
         "-1414",
         "97",
         "-1375",
         "-1511"
        ],
        [
         "2025-01-21 00:00:00",
         "XAUUSD",
         "24721",
         "3300",
         "2388",
         "-347",
         "21421",
         "2735"
        ],
        [
         "2025-01-14 00:00:00",
         "XAUUSD",
         "20847",
         "-3605",
         "676",
         "1322",
         "24452",
         "-646"
        ],
        [
         "2025-01-07 00:00:00",
         "XAUUSD",
         "8814",
         "1182",
         "217",
         "499",
         "7632",
         "-282"
        ],
        [
         "2024-12-31 00:00:00",
         "XAUUSD",
         "-6509",
         "-6159",
         "-456",
         "1234",
         "-350",
         "-1690"
        ],
        [
         "2024-12-24 00:00:00",
         "XAUUSD",
         "-13562",
         "850",
         "-575",
         "-3090",
         "-14412",
         "2515"
        ],
        [
         "2024-12-17 00:00:00",
         "XAUUSD",
         "-21354",
         "-7809",
         "1940",
         "33",
         "-13545",
         "1907"
        ],
        [
         "2024-12-10 00:00:00",
         "XAUUSD",
         "16721",
         "871",
         "-1889",
         "3365",
         "15850",
         "-5254"
        ],
        [
         "2024-12-03 00:00:00",
         "XAUUSD",
         "4210",
         "-5188",
         "1763",
         "-2594",
         "9398",
         "4357"
        ],
        [
         "2024-11-26 00:00:00",
         "XAUUSD",
         "-5953",
         "-21924",
         "-5847",
         "-74",
         "15971",
         "-5773"
        ],
        [
         "2024-11-19 00:00:00",
         "XAUUSD",
         "-6871",
         "-4787",
         "-4417",
         "-3241",
         "-2084",
         "-1176"
        ],
        [
         "2024-11-12 00:00:00",
         "XAUUSD",
         "-20591",
         "-1713",
         "4201",
         "2800",
         "-18878",
         "1401"
        ],
        [
         "2024-11-05 00:00:00",
         "XAUUSD",
         "-29820",
         "-6496",
         "-795",
         "-3507",
         "-23324",
         "2712"
        ],
        [
         "2024-10-29 00:00:00",
         "XAUUSD",
         "-5177",
         "12374",
         "-782",
         "2697",
         "-17551",
         "-3479"
        ],
        [
         "2024-10-22 00:00:00",
         "XAUUSD",
         "14319",
         "4549",
         "3724",
         "1451",
         "9770",
         "2273"
        ],
        [
         "2024-10-15 00:00:00",
         "XAUUSD",
         "8603",
         "349",
         "-950",
         "-1378",
         "8254",
         "428"
        ],
        [
         "2024-10-08 00:00:00",
         "XAUUSD",
         "-21160",
         "591",
         "-1751",
         "46",
         "-21751",
         "-1797"
        ],
        [
         "2024-10-01 00:00:00",
         "XAUUSD",
         "-17521",
         "-2062",
         "-253",
         "-3530",
         "-15459",
         "3277"
        ],
        [
         "2024-09-24 00:00:00",
         "XAUUSD",
         "17838",
         "12514",
         "468",
         "1213",
         "5324",
         "-745"
        ],
        [
         "2024-09-17 00:00:00",
         "XAUUSD",
         "29728",
         "2163",
         "2039",
         "1376",
         "27565",
         "663"
        ],
        [
         "2024-09-10 00:00:00",
         "XAUUSD",
         "849",
         "5906",
         "-261",
         "-330",
         "-5057",
         "69"
        ],
        [
         "2024-09-03 00:00:00",
         "XAUUSD",
         "-4173",
         "2714",
         "-3491",
         "54",
         "-6887",
         "-3545"
        ],
        [
         "2024-08-27 00:00:00",
         "XAUUSD",
         "-12221",
         "-15413",
         "1771",
         "-850",
         "3192",
         "2621"
        ],
        [
         "2024-08-20 00:00:00",
         "XAUUSD",
         "26782",
         "2793",
         "2530",
         "2515",
         "23989",
         "15"
        ],
        [
         "2024-08-13 00:00:00",
         "XAUUSD",
         "30650",
         "2135",
         "-817",
         "4230",
         "28515",
         "-5047"
        ],
        [
         "2024-08-06 00:00:00",
         "XAUUSD",
         "-15245",
         "-7393",
         "1274",
         "-2755",
         "-7852",
         "4029"
        ],
        [
         "2024-07-30 00:00:00",
         "XAUUSD",
         "-28236",
         "-1763",
         "-3774",
         "-2179",
         "-26473",
         "-1595"
        ],
        [
         "2024-07-23 00:00:00",
         "XAUUSD",
         "-8227",
         "3723",
         "-109",
         "-3680",
         "-11950",
         "3571"
        ],
        [
         "2024-07-16 00:00:00",
         "XAUUSD",
         "46784",
         "16535",
         "3191",
         "4765",
         "30249",
         "-1574"
        ],
        [
         "2024-07-09 00:00:00",
         "XAUUSD",
         "22926",
         "9694",
         "2929",
         "331",
         "13232",
         "2598"
        ],
        [
         "2024-07-02 00:00:00",
         "XAUUSD",
         "-4768",
         "-82",
         "-742",
         "1261",
         "-4686",
         "-2003"
        ],
        [
         "2024-06-25 00:00:00",
         "XAUUSD",
         "-2262",
         "-5407",
         "777",
         "164",
         "3145",
         "613"
        ],
        [
         "2024-06-18 00:00:00",
         "XAUUSD",
         "10378",
         "1220",
         "-2652",
         "-713",
         "9158",
         "-1939"
        ]
       ],
       "shape": {
        "columns": 7,
        "rows": 282
       }
      },
      "text/html": [
       "<div>\n",
       "<style scoped>\n",
       "    .dataframe tbody tr th:only-of-type {\n",
       "        vertical-align: middle;\n",
       "    }\n",
       "\n",
       "    .dataframe tbody tr th {\n",
       "        vertical-align: top;\n",
       "    }\n",
       "\n",
       "    .dataframe thead th {\n",
       "        text-align: right;\n",
       "    }\n",
       "</style>\n",
       "<table border=\"1\" class=\"dataframe\">\n",
       "  <thead>\n",
       "    <tr style=\"text-align: right;\">\n",
       "      <th></th>\n",
       "      <th>ticker</th>\n",
       "      <th>change_noncommercial_long</th>\n",
       "      <th>change_noncommercial_short</th>\n",
       "      <th>change_nonrept_long</th>\n",
       "      <th>change_nonrept_short</th>\n",
       "      <th>change_noncommercial_delta</th>\n",
       "      <th>change_nonreportable_delta</th>\n",
       "    </tr>\n",
       "    <tr>\n",
       "      <th>date</th>\n",
       "      <th></th>\n",
       "      <th></th>\n",
       "      <th></th>\n",
       "      <th></th>\n",
       "      <th></th>\n",
       "      <th></th>\n",
       "      <th></th>\n",
       "    </tr>\n",
       "  </thead>\n",
       "  <tbody>\n",
       "    <tr>\n",
       "      <th>2025-05-27</th>\n",
       "      <td>XAUUSD</td>\n",
       "      <td>-3975</td>\n",
       "      <td>-14178</td>\n",
       "      <td>2488</td>\n",
       "      <td>2752</td>\n",
       "      <td>10203</td>\n",
       "      <td>-264</td>\n",
       "    </tr>\n",
       "    <tr>\n",
       "      <th>2025-05-20</th>\n",
       "      <td>XAUUSD</td>\n",
       "      <td>-129</td>\n",
       "      <td>-2901</td>\n",
       "      <td>2483</td>\n",
       "      <td>-1186</td>\n",
       "      <td>2772</td>\n",
       "      <td>3669</td>\n",
       "    </tr>\n",
       "    <tr>\n",
       "      <th>2025-05-13</th>\n",
       "      <td>XAUUSD</td>\n",
       "      <td>746</td>\n",
       "      <td>2034</td>\n",
       "      <td>-1062</td>\n",
       "      <td>-1454</td>\n",
       "      <td>-1288</td>\n",
       "      <td>392</td>\n",
       "    </tr>\n",
       "    <tr>\n",
       "      <th>2025-05-06</th>\n",
       "      <td>XAUUSD</td>\n",
       "      <td>-2932</td>\n",
       "      <td>-2111</td>\n",
       "      <td>1957</td>\n",
       "      <td>-206</td>\n",
       "      <td>-821</td>\n",
       "      <td>2163</td>\n",
       "    </tr>\n",
       "    <tr>\n",
       "      <th>2025-04-29</th>\n",
       "      <td>XAUUSD</td>\n",
       "      <td>-18519</td>\n",
       "      <td>-6459</td>\n",
       "      <td>-229</td>\n",
       "      <td>-782</td>\n",
       "      <td>-12060</td>\n",
       "      <td>553</td>\n",
       "    </tr>\n",
       "    <tr>\n",
       "      <th>...</th>\n",
       "      <td>...</td>\n",
       "      <td>...</td>\n",
       "      <td>...</td>\n",
       "      <td>...</td>\n",
       "      <td>...</td>\n",
       "      <td>...</td>\n",
       "      <td>...</td>\n",
       "    </tr>\n",
       "    <tr>\n",
       "      <th>2020-02-04</th>\n",
       "      <td>XAUUSD</td>\n",
       "      <td>-20492</td>\n",
       "      <td>9794</td>\n",
       "      <td>-117</td>\n",
       "      <td>-1276</td>\n",
       "      <td>-30286</td>\n",
       "      <td>1159</td>\n",
       "    </tr>\n",
       "    <tr>\n",
       "      <th>2020-01-28</th>\n",
       "      <td>XAUUSD</td>\n",
       "      <td>1608</td>\n",
       "      <td>-10789</td>\n",
       "      <td>-4335</td>\n",
       "      <td>-849</td>\n",
       "      <td>12397</td>\n",
       "      <td>-3486</td>\n",
       "    </tr>\n",
       "    <tr>\n",
       "      <th>2020-01-21</th>\n",
       "      <td>XAUUSD</td>\n",
       "      <td>-2016</td>\n",
       "      <td>-476</td>\n",
       "      <td>3520</td>\n",
       "      <td>-104</td>\n",
       "      <td>-1540</td>\n",
       "      <td>3624</td>\n",
       "    </tr>\n",
       "    <tr>\n",
       "      <th>2020-01-14</th>\n",
       "      <td>XAUUSD</td>\n",
       "      <td>-6671</td>\n",
       "      <td>-3615</td>\n",
       "      <td>1035</td>\n",
       "      <td>4241</td>\n",
       "      <td>-3056</td>\n",
       "      <td>-3206</td>\n",
       "    </tr>\n",
       "    <tr>\n",
       "      <th>2020-01-07</th>\n",
       "      <td>XAUUSD</td>\n",
       "      <td>1860</td>\n",
       "      <td>7494</td>\n",
       "      <td>-448</td>\n",
       "      <td>4328</td>\n",
       "      <td>-5634</td>\n",
       "      <td>-4776</td>\n",
       "    </tr>\n",
       "  </tbody>\n",
       "</table>\n",
       "<p>282 rows × 7 columns</p>\n",
       "</div>"
      ],
      "text/plain": [
       "            ticker  change_noncommercial_long  change_noncommercial_short  \\\n",
       "date                                                                        \n",
       "2025-05-27  XAUUSD                      -3975                      -14178   \n",
       "2025-05-20  XAUUSD                       -129                       -2901   \n",
       "2025-05-13  XAUUSD                        746                        2034   \n",
       "2025-05-06  XAUUSD                      -2932                       -2111   \n",
       "2025-04-29  XAUUSD                     -18519                       -6459   \n",
       "...            ...                        ...                         ...   \n",
       "2020-02-04  XAUUSD                     -20492                        9794   \n",
       "2020-01-28  XAUUSD                       1608                      -10789   \n",
       "2020-01-21  XAUUSD                      -2016                        -476   \n",
       "2020-01-14  XAUUSD                      -6671                       -3615   \n",
       "2020-01-07  XAUUSD                       1860                        7494   \n",
       "\n",
       "            change_nonrept_long  change_nonrept_short  \\\n",
       "date                                                    \n",
       "2025-05-27                 2488                  2752   \n",
       "2025-05-20                 2483                 -1186   \n",
       "2025-05-13                -1062                 -1454   \n",
       "2025-05-06                 1957                  -206   \n",
       "2025-04-29                 -229                  -782   \n",
       "...                         ...                   ...   \n",
       "2020-02-04                 -117                 -1276   \n",
       "2020-01-28                -4335                  -849   \n",
       "2020-01-21                 3520                  -104   \n",
       "2020-01-14                 1035                  4241   \n",
       "2020-01-07                 -448                  4328   \n",
       "\n",
       "            change_noncommercial_delta  change_nonreportable_delta  \n",
       "date                                                                \n",
       "2025-05-27                       10203                        -264  \n",
       "2025-05-20                        2772                        3669  \n",
       "2025-05-13                       -1288                         392  \n",
       "2025-05-06                        -821                        2163  \n",
       "2025-04-29                      -12060                         553  \n",
       "...                                ...                         ...  \n",
       "2020-02-04                      -30286                        1159  \n",
       "2020-01-28                       12397                       -3486  \n",
       "2020-01-21                       -1540                        3624  \n",
       "2020-01-14                       -3056                       -3206  \n",
       "2020-01-07                       -5634                       -4776  \n",
       "\n",
       "[282 rows x 7 columns]"
      ]
     },
     "execution_count": 1,
     "metadata": {},
     "output_type": "execute_result"
    }
   ],
   "source": [
    "# add the parent directory to the system path\n",
    "from pathlib import Path\n",
    "import sys\n",
    "import os\n",
    "current_dir = Path(os.getcwd())\n",
    "main_dir = str(current_dir.parent.parent)\n",
    "sys.path.append(main_dir)\n",
    "\n",
    "from Sentiment.API.cot_API import get_cot_data\n",
    "\n",
    "df = get_cot_data(\"XAUUSD\")\n",
    "df"
   ]
  },
  {
   "cell_type": "code",
   "execution_count": 2,
   "id": "f6e969d2",
   "metadata": {},
   "outputs": [],
   "source": [
    "# save as csv\n",
    "df.to_csv(\"XAUUSD_cot_data.csv\", index=True)"
   ]
  },
  {
   "cell_type": "code",
   "execution_count": 5,
   "id": "87104083",
   "metadata": {},
   "outputs": [
    {
     "data": {
      "text/plain": [
       "[<matplotlib.lines.Line2D at 0x1f2cd15ef00>]"
      ]
     },
     "execution_count": 5,
     "metadata": {},
     "output_type": "execute_result"
    },
    {
     "data": {
      "image/png": "[encoded data removed]",
      "text/plain": [
       "<Figure size 1200x600 with 1 Axes>"
      ]
     },
     "metadata": {},
     "output_type": "display_data"
    }
   ],
   "source": [
    "# plot the net non-commercial positions and the net non_reportable positions\n",
    "import matplotlib.pyplot as plt\n",
    "plt.figure(figsize=(12, 6))\n",
    "plt.plot(df.index, df['change_noncommercial_delta'], label='Non-Commercial Positions Change', color='blue')\n",
    "plt.plot(df.index, df['change_nonreportable_delta'], label='Non-Reportable Positions Change', color='orange')"
   ]
  }
 ],
 "metadata": {
  "kernelspec": {
   "display_name": "Python 3",
   "language": "python",
   "name": "python3"
  },
  "language_info": {
   "codemirror_mode": {
    "name": "ipython",
    "version": 3
   },
   "file_extension": ".py",
   "mimetype": "text/x-python",
   "name": "python",
   "nbconvert_exporter": "python",
   "pygments_lexer": "ipython3",
   "version": "3.12.3"
  }
 },
 "nbformat": 4,
 "nbformat_minor": 5
}
